{
 "cells": [
  {
   "cell_type": "markdown",
   "metadata": {},
   "source": [
    "# 00. 文字列の逆順"
   ]
  },
  {
   "cell_type": "code",
   "execution_count": 1,
   "metadata": {},
   "outputs": [
    {
     "name": "stdout",
     "output_type": "stream",
     "text": [
      "desserts\n"
     ]
    }
   ],
   "source": [
    "string = \"stressed\"\n",
    "reverse_string = string[::-1]\n",
    "print(reverse_string)"
   ]
  },
  {
   "cell_type": "markdown",
   "metadata": {},
   "source": [
    "# 01 「パタトクカシーー」"
   ]
  },
  {
   "cell_type": "code",
   "execution_count": 2,
   "metadata": {},
   "outputs": [
    {
     "name": "stdout",
     "output_type": "stream",
     "text": [
      "タクシー\n",
      "パトカー\n"
     ]
    }
   ],
   "source": [
    "pato = \"パタトクカシーー\" \n",
    "# 2の倍数の文字かどうかでリストを作成する\n",
    "dic = list(filter(lambda i: i %2==1, [i for i in range(len(pato))]))  # [1,3,5,7]\n",
    "dic2 = list(filter(lambda j: j %2!=1, [j  for j in range(len(pato))]))\n",
    "print(\"\".join([pato[i] for i in dic]))\n",
    "print(\"\".join([pato[j] for j in dic2]))"
   ]
  },
  {
   "cell_type": "markdown",
   "metadata": {},
   "source": [
    "# 02. 「パトカー」＋「タクシー」＝「パタトクカシーー」"
   ]
  },
  {
   "cell_type": "code",
   "execution_count": 3,
   "metadata": {},
   "outputs": [
    {
     "name": "stdout",
     "output_type": "stream",
     "text": [
      "パタトクカシーー\n"
     ]
    }
   ],
   "source": [
    "pato = \"パトカー\"\n",
    "tac = \"タクシー\"\n",
    "\n",
    "print(\"\".join([pato[i]+tac[i] for i in range(len(pato))]))"
   ]
  },
  {
   "cell_type": "markdown",
   "metadata": {},
   "source": [
    "# 03. 円周率"
   ]
  },
  {
   "cell_type": "code",
   "execution_count": 4,
   "metadata": {},
   "outputs": [
    {
     "name": "stdout",
     "output_type": "stream",
     "text": [
      "['Now', 'I', 'need', 'a', 'drink,', 'alcoholic', 'of', 'course,', 'after', 'the', 'heavy', 'lectures', 'involving', 'quantum', 'mechanics.']\n",
      "[3, 1, 4, 1, 6, 9, 2, 7, 5, 3, 5, 8, 9, 7, 10]\n"
     ]
    }
   ],
   "source": [
    "sentence = \"Now I need a drink, alcoholic of course, after the heavy lectures involving quantum mechanics.\"\n",
    "\n",
    "# 半角で文字列を区切る\n",
    "sentence_list = sentence.split()\n",
    "print(sentence_list)\n",
    "\n",
    "sentence_len = [len(s) for s in sentence_list]\n",
    "print(sentence_len)"
   ]
  },
  {
   "cell_type": "markdown",
   "metadata": {},
   "source": [
    "# 04. 元素記号"
   ]
  },
  {
   "cell_type": "code",
   "execution_count": 5,
   "metadata": {},
   "outputs": [
    {
     "name": "stdout",
     "output_type": "stream",
     "text": [
      "1: H\n",
      "2: He\n",
      "3: Li\n",
      "4: Be\n",
      "5: B\n",
      "6: C\n",
      "7: N\n",
      "8: O\n",
      "9: F\n",
      "10: Ne\n",
      "11: Na\n",
      "12: Mi\n",
      "13: Al\n",
      "14: Si\n",
      "15: P\n",
      "16: S\n",
      "17: Cl\n",
      "18: Ar\n",
      "19: K\n",
      "20: Ca\n"
     ]
    }
   ],
   "source": [
    "genso = \"Hi He Lied Because Boron Could Not Oxidize Fluorine. New Nations Might Also Sign Peace Security Clause. Arthur King Can.\"\n",
    "num = [1, 5, 6, 7, 8, 9, 15, 16, 19]\n",
    "\n",
    "# gensoを空白で区切る\n",
    "genso_list = genso.split()\n",
    "\n",
    "# それぞれの文字列の長さを格納\n",
    "genso_len = [len(s) for s in genso_list]\n",
    "\n",
    "# genso_listの要素の数だけforを回しnumに当てはまる番号のgensoは戦闘のみ、他の文字は先頭2文字を取り出す x+1に注意\n",
    "genso_kigo = list(map(lambda x: genso_list[x][0] if x+1 in num else genso_list[x][0:2], range(len(genso_len))))\n",
    "\n",
    "# 元素番号と元素記号を辞書型に変換\n",
    "genso_dic = dict(zip([i+1 for i in range(len(genso_len))], genso_kigo))\n",
    "\n",
    "for key, value in genso_dic.items():\n",
    "    print(\"{}: {}\".format(key, value))"
   ]
  },
  {
   "cell_type": "markdown",
   "metadata": {},
   "source": [
    "# 05 n-gram\n",
    "\n",
    "任意の文字列や文書を連続したn個の文字で分割するテキスト分割方法．特に，nが1の場合をユニグラム（uni-gram），2の場合をバイグラム（bi-gram），3の場合をトライグラム（tri-gram）と呼ぶ．"
   ]
  },
  {
   "cell_type": "code",
   "execution_count": 6,
   "metadata": {},
   "outputs": [],
   "source": [
    "import math"
   ]
  },
  {
   "cell_type": "code",
   "execution_count": 21,
   "metadata": {},
   "outputs": [],
   "source": [
    "string = \"I am an NLPer\"\n",
    "n = 2\n",
    "def n_gram(n:int, text:str, mode=\"string\")->list:\n",
    "    if mode == \"string\":\n",
    "        print(\"文字\")\n",
    "        return [text[x : x+2] for x in range(len(text)-1)]\n",
    "    else:\n",
    "        print(\"単語\")\n",
    "        return [text.split()[x : x+2] for x in range(len(text.split())-1)]"
   ]
  },
  {
   "cell_type": "code",
   "execution_count": 22,
   "metadata": {},
   "outputs": [
    {
     "name": "stdout",
     "output_type": "stream",
     "text": [
      "文字\n",
      "['I ', ' a', 'am', 'm ', ' a', 'an', 'n ', ' N', 'NL', 'LP', 'Pe', 'er']\n",
      "単語\n",
      "[['I', 'am'], ['am', 'an'], ['an', 'NLPer']]\n"
     ]
    }
   ],
   "source": [
    "# 文字単位\n",
    "string_bi = n_gram(n, string)\n",
    "print(string_bi)\n",
    "\n",
    "# 単語単位\n",
    "sentence_bi = n_gram(n, string, mode=\"sentence\")\n",
    "print(sentence_bi)"
   ]
  },
  {
   "cell_type": "markdown",
   "metadata": {},
   "source": [
    "# 06 集合"
   ]
  },
  {
   "cell_type": "code",
   "execution_count": 91,
   "metadata": {},
   "outputs": [],
   "source": [
    "x_ =\"paraparaparadise\"\n",
    "y_ = \"paragraph\""
   ]
  },
  {
   "cell_type": "code",
   "execution_count": 92,
   "metadata": {},
   "outputs": [
    {
     "name": "stdout",
     "output_type": "stream",
     "text": [
      "文字\n",
      "文字\n"
     ]
    }
   ],
   "source": [
    "x_bi = n_gram(2, x_)\n",
    "y_bi = n_gram(2, y_)"
   ]
  },
  {
   "cell_type": "code",
   "execution_count": 93,
   "metadata": {},
   "outputs": [],
   "source": [
    "wa = x_bi"
   ]
  },
  {
   "cell_type": "code",
   "execution_count": 94,
   "metadata": {},
   "outputs": [
    {
     "data": {
      "text/plain": [
       "['ag', 'gr', 'ph']"
      ]
     },
     "execution_count": 94,
     "metadata": {},
     "output_type": "execute_result"
    }
   ],
   "source": [
    "# xに含まれないyを抽出\n",
    "y_notin_x =list(filter(lambda k: k not in x_bi, y_bi))\n",
    "y_notin_x"
   ]
  },
  {
   "cell_type": "code",
   "execution_count": 95,
   "metadata": {},
   "outputs": [],
   "source": [
    "# 和集合を抽出\n",
    "for i in y_notin_x:\n",
    "    wa.append(i)"
   ]
  },
  {
   "cell_type": "code",
   "execution_count": 96,
   "metadata": {},
   "outputs": [
    {
     "data": {
      "text/plain": [
       "['pa',\n",
       " 'ar',\n",
       " 'ra',\n",
       " 'ap',\n",
       " 'pa',\n",
       " 'ar',\n",
       " 'ra',\n",
       " 'ap',\n",
       " 'pa',\n",
       " 'ar',\n",
       " 'ra',\n",
       " 'ad',\n",
       " 'di',\n",
       " 'is',\n",
       " 'se',\n",
       " 'ag',\n",
       " 'gr',\n",
       " 'ph']"
      ]
     },
     "execution_count": 96,
     "metadata": {},
     "output_type": "execute_result"
    }
   ],
   "source": [
    "wa"
   ]
  },
  {
   "cell_type": "code",
   "execution_count": 101,
   "metadata": {},
   "outputs": [],
   "source": [
    "seki = list(filter(lambda x: x in y_bi, x_bi ))"
   ]
  },
  {
   "cell_type": "code",
   "execution_count": 102,
   "metadata": {},
   "outputs": [
    {
     "data": {
      "text/plain": [
       "['pa',\n",
       " 'ar',\n",
       " 'ra',\n",
       " 'ap',\n",
       " 'pa',\n",
       " 'ar',\n",
       " 'ra',\n",
       " 'ap',\n",
       " 'pa',\n",
       " 'ar',\n",
       " 'ra',\n",
       " 'ag',\n",
       " 'gr',\n",
       " 'ph']"
      ]
     },
     "execution_count": 102,
     "metadata": {},
     "output_type": "execute_result"
    }
   ],
   "source": [
    "seki"
   ]
  },
  {
   "cell_type": "code",
   "execution_count": 107,
   "metadata": {},
   "outputs": [],
   "source": [
    "sa = list(set(x_bi) ^ set(y_bi))"
   ]
  },
  {
   "cell_type": "code",
   "execution_count": 109,
   "metadata": {},
   "outputs": [
    {
     "data": {
      "text/plain": [
       "['ad', 'di', 'is', 'se']"
      ]
     },
     "execution_count": 109,
     "metadata": {},
     "output_type": "execute_result"
    }
   ],
   "source": [
    "sa"
   ]
  },
  {
   "cell_type": "markdown",
   "metadata": {},
   "source": [
    "# 07. テンプレートによる文生成"
   ]
  },
  {
   "cell_type": "code",
   "execution_count": 111,
   "metadata": {},
   "outputs": [
    {
     "data": {
      "text/plain": [
       "'12時の気温は22.4'"
      ]
     },
     "execution_count": 111,
     "metadata": {},
     "output_type": "execute_result"
    }
   ],
   "source": [
    "def template(x, y, z) -> str:\n",
    "    return \"{}時の{}は{}\".format(x, y, z)\n",
    "\n",
    "template(12, \"気温\", 22.4)"
   ]
  },
  {
   "cell_type": "markdown",
   "metadata": {},
   "source": [
    "# 08. 暗号文"
   ]
  },
  {
   "cell_type": "code",
   "execution_count": 151,
   "metadata": {},
   "outputs": [],
   "source": [
    "string = \"I Wanna Banana\"\n",
    "\n",
    "'''\n",
    "暗号化\n",
    "chr(219 - ord(string[x])\n",
    "\n",
    "小文字判定\n",
    "string[x].islower()\n",
    "'''\n",
    "\n",
    "\n",
    "def cipher(string:str)->str:\n",
    "    result = list(map(lambda x: chr(219 - ord(string[x])) if string[x].islower() else string[x], range(len(string)) ))\n",
    "    return \"\".join(result)\n"
   ]
  },
  {
   "cell_type": "code",
   "execution_count": 153,
   "metadata": {},
   "outputs": [
    {
     "name": "stdout",
     "output_type": "stream",
     "text": [
      "I Wzmmz Bzmzmz\n"
     ]
    }
   ],
   "source": [
    "result = cipher(string)\n",
    "print(result)"
   ]
  },
  {
   "cell_type": "markdown",
   "metadata": {},
   "source": [
    "# 09. Typoglycemia"
   ]
  },
  {
   "cell_type": "code",
   "execution_count": 205,
   "metadata": {},
   "outputs": [],
   "source": [
    "import random"
   ]
  },
  {
   "cell_type": "code",
   "execution_count": 227,
   "metadata": {},
   "outputs": [],
   "source": [
    "string = \"I couldn't believe that I could actually understand what I was reading : the phenomenal power of the human mind .\""
   ]
  },
  {
   "cell_type": "code",
   "execution_count": 232,
   "metadata": {},
   "outputs": [],
   "source": [
    "def random_string(string):\n",
    "    \n",
    "    # 文字列を空白区切りでリストに変換\n",
    "    str_list = string.split()\n",
    "    result = []\n",
    "    \n",
    "    # 一文字区切りで文字を格納してresultに入れる\n",
    "    for j in range(len(str_list)):\n",
    "        k = [x for x in str_list[j]]\n",
    "        result.append(k)\n",
    "        \n",
    "    # resultのデバッグ用\n",
    "#     print(result)\n",
    "    \n",
    "    result2 = []\n",
    "    \n",
    "    # 4文字以下なら何もせず4文字以上で最初と最後の文字のみ残し他をランダムにシャッフルする処理をする\n",
    "    for i in range(len(result)):\n",
    "        \n",
    "        if len(result[i])<=4:\n",
    "            result2.append(result[i])\n",
    "            \n",
    "        elif len(result[i]) > 4:\n",
    "            k = result[i][1:-1]\n",
    "            random.shuffle(k)\n",
    "            tmp = [result[i][0]] + k + [result[i][-1]]\n",
    "            result2.append(tmp)\n",
    "\n",
    "    return \" \".join([\"\".join(x) for x in result2])"
   ]
  },
  {
   "cell_type": "code",
   "execution_count": 233,
   "metadata": {},
   "outputs": [
    {
     "name": "stdout",
     "output_type": "stream",
     "text": [
      "I cudlo'nt bevelie that I cluod allcuaty uteasndnrd what I was raidneg : the pnnmheaeol poewr of the hamun mind .\n"
     ]
    }
   ],
   "source": [
    "print(random_string(string))"
   ]
  }
 ],
 "metadata": {
  "kernelspec": {
   "display_name": "Python 3.7.2 64-bit",
   "language": "python",
   "name": "python37264bitc6820bcd529848d1aef0990277592879"
  },
  "language_info": {
   "codemirror_mode": {
    "name": "ipython",
    "version": 3
   },
   "file_extension": ".py",
   "mimetype": "text/x-python",
   "name": "python",
   "nbconvert_exporter": "python",
   "pygments_lexer": "ipython3",
   "version": "3.7.2"
  }
 },
 "nbformat": 4,
 "nbformat_minor": 4
}
